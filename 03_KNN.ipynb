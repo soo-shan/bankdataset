{
 "cells": [
  {
   "cell_type": "code",
   "execution_count": 1,
   "metadata": {},
   "outputs": [],
   "source": [
    "%%capture\n",
    "import numpy as np\n",
    "import pandas as pd\n",
    "import matplotlib.pyplot as plt\n",
    "\n",
    "data =pd.read_csv('bank/bank.csv',sep=';')\n",
    "col_cat = ['job','marital','education','default','housing','loan','contact','month','poutcome']\n",
    "col_num = ['age','balance','day','duration','campaign','pdays','previous']\n",
    "data_categorical = pd.get_dummies(data[col_cat])\n",
    "data_numerical = data[col_num]\n",
    "data_set = pd.concat([data_categorical,data_numerical],axis = 1)\n",
    "\n",
    "from sklearn.ensemble import RandomForestClassifier\n",
    "from boruta import BorutaPy\n",
    "X =data_set.values\n",
    "y = data['y'].copy()\n",
    "y = y.ravel()\n",
    "rf = RandomForestClassifier(n_jobs=-1, class_weight='balanced', max_depth=5)\n",
    "feat_selector = BorutaPy(rf, n_estimators='auto', verbose=2, random_state=1)\n",
    "feat_selector.fit(X, y)\n",
    "feat_selector.support_\n",
    "feat_selector.ranking_\n",
    "X_filtered = feat_selector.transform(X)\n",
    "\n",
    "x_feat = data_set.copy()\n",
    "drop_col = x_feat.columns[feat_selector.ranking_ > 1]\n",
    "x_feat.drop(drop_col,axis = 1, inplace=True)\n",
    "\n",
    "\n",
    "y[y == 'no'] = -1\n",
    "y[y == 'yes'] = 1\n",
    "y=y.astype('float')\n",
    "\n",
    "from sklearn.model_selection import train_test_split\n",
    "x_train, x_test, y_train, y_test = train_test_split(x_feat, y, test_size=0.30, random_state=0)\n",
    "\n",
    "\n",
    "from sklearn.preprocessing import StandardScaler\n",
    "scaler = StandardScaler()\n",
    "scaler.fit(x_train)\n",
    "x_train = scaler.transform(x_train)\n",
    "x_test = scaler.transform(x_test)\n"
   ]
  },
  {
   "cell_type": "code",
   "execution_count": 2,
   "metadata": {},
   "outputs": [],
   "source": [
    "from sklearn.neighbors import KNeighborsClassifier\n",
    "knn = KNeighborsClassifier(n_neighbors = 3)\n",
    "knn.fit(x_train, y_train)\n",
    "predicted_label = knn.predict(x_test)"
   ]
  },
  {
   "cell_type": "code",
   "execution_count": 3,
   "metadata": {},
   "outputs": [
    {
     "name": "stdout",
     "output_type": "stream",
     "text": [
      " Classification Report\n",
      "             precision    recall  f1-score   support\n",
      "\n",
      "       -1.0       0.91      0.95      0.93      1190\n",
      "        1.0       0.50      0.37      0.43       167\n",
      "\n",
      "avg / total       0.86      0.88      0.87      1357\n",
      "\n",
      "Confusion Metrics: \n",
      " [[1129   61]\n",
      " [ 105   62]]\n"
     ]
    },
    {
     "data": {
      "image/png": "[encoded data removed]",
      "text/plain": [
       "<Figure size 432x288 with 2 Axes>"
      ]
     },
     "metadata": {},
     "output_type": "display_data"
    },
    {
     "name": "stdout",
     "output_type": "stream",
     "text": [
      "Test Accuracy of random forest 87.77%\n"
     ]
    }
   ],
   "source": [
    "from sklearn.metrics import classification_report\n",
    "\n",
    "report = classification_report(y_test, predicted_label)\n",
    "print(f' Classification Report\\n{report}')\n",
    "\n",
    "from sklearn import metrics\n",
    "labels=[-1,1]\n",
    "cm = metrics.confusion_matrix(y_test, predicted_label, labels)\n",
    "print(f'Confusion Metrics: \\n {cm}')\n",
    "fig = plt.figure()\n",
    "ax = fig.add_subplot(111)\n",
    "cax = ax.matshow(cm)\n",
    "plt.title('Confusion matrix of the classifier')\n",
    "fig.colorbar(cax)\n",
    "ax.set_xticklabels([''] + labels)\n",
    "ax.set_yticklabels([''] + labels)\n",
    "plt.xlabel('Predicted')\n",
    "plt.ylabel('True')\n",
    "plt.show()\n",
    "\n",
    "score=knn.score(x_test,y_test)*100\n",
    "print(f'Test Accuracy of knn is {round(score,2)}%')"
   ]
  },
  {
   "cell_type": "code",
   "execution_count": 4,
   "metadata": {},
   "outputs": [],
   "source": [
    "# Tunning hyper parameter k\n",
    "\n",
    "\n",
    "# creating odd list of K for KNN\n",
    "neighbors = list(range(1,50,2))\n",
    "\n",
    "# subsetting just the odd ones\n",
    "#neighbors = filter(lambda x: x % 2 != 0, myList)\n",
    "\n",
    "# empty list that will hold cv scores\n",
    "cv_scores = []\n",
    "\n",
    "# perform 10-fold cross validation\n",
    "from sklearn import model_selection\n",
    "\n",
    "kfold = model_selection.KFold(n_splits=10, random_state=30) # random state =seed\n",
    "for k in neighbors:\n",
    "    knn_hp = KNeighborsClassifier(n_neighbors=k)\n",
    "    scores = model_selection.cross_val_score(knn_hp, x_train, y_train, cv= kfold, scoring='accuracy')\n",
    "    cv_scores.append(scores.mean())\n"
   ]
  },
  {
   "cell_type": "code",
   "execution_count": 15,
   "metadata": {},
   "outputs": [
    {
     "name": "stdout",
     "output_type": "stream",
     "text": [
      "The optimal number of neighbors is 9\n"
     ]
    },
    {
     "data": {
      "image/png": "[encoded data removed]",
      "text/plain": [
       "<Figure size 432x288 with 1 Axes>"
      ]
     },
     "metadata": {},
     "output_type": "display_data"
    }
   ],
   "source": [
    "# changing to misclassification error\n",
    "MSE = [1 - x for x in cv_scores]\n",
    "\n",
    "# determining best k\n",
    "optimal_k = neighbors[MSE.index(min(MSE))]\n",
    "print(f\"The optimal number of neighbors is {optimal_k}\")\n",
    "\n",
    "# plot misclassification error vs k\n",
    "plt.plot(neighbors, MSE)\n",
    "plt.xlabel('Number of Neighbors K')\n",
    "plt.ylabel('Misclassification Error')\n",
    "plt.show()\n",
    "\n",
    "\n"
   ]
  },
  {
   "cell_type": "code",
   "execution_count": 28,
   "metadata": {},
   "outputs": [
    {
     "name": "stdout",
     "output_type": "stream",
     "text": [
      " Classification Report\n",
      "             precision    recall  f1-score   support\n",
      "\n",
      "       -1.0       0.92      0.97      0.94      1190\n",
      "        1.0       0.63      0.38      0.47       167\n",
      "\n",
      "avg / total       0.88      0.90      0.88      1357\n",
      "\n",
      "Confusion Metrics: \n",
      " [[1153   37]\n",
      " [ 104   63]]\n"
     ]
    },
    {
     "data": {
      "image/png": "[encoded data removed]",
      "text/plain": [
       "<Figure size 432x288 with 2 Axes>"
      ]
     },
     "metadata": {},
     "output_type": "display_data"
    },
    {
     "name": "stdout",
     "output_type": "stream",
     "text": [
      "Test Accuracy of random forest 89.61%\n"
     ]
    }
   ],
   "source": [
    "# Running knn with n = 9\n",
    "\n",
    "# from sklearn.neighbors import KNeighborsClassifier\n",
    "\n",
    "knn = KNeighborsClassifier(n_neighbors = 9)\n",
    "knn.fit(x_train, y_train)\n",
    "predicted_label = knn.predict(x_test)\n",
    "\n",
    "# from sklearn.metrics import classification_report\n",
    "\n",
    "report = classification_report(y_test, predicted_label)\n",
    "print(f' Classification Report\\n{report}')\n",
    "\n",
    "# from sklearn import metrics\n",
    "\n",
    "labels=[-1,1]\n",
    "cm = metrics.confusion_matrix(y_test, predicted_label, labels)\n",
    "print(f'Confusion Metrics: \\n {cm}')\n",
    "fig = plt.figure()\n",
    "ax = fig.add_subplot(111)\n",
    "cax = ax.matshow(cm)\n",
    "plt.title('Confusion matrix of the classifier')\n",
    "fig.colorbar(cax)\n",
    "ax.set_xticklabels([''] + labels)\n",
    "ax.set_yticklabels([''] + labels)\n",
    "plt.xlabel('Predicted')\n",
    "plt.ylabel('True')\n",
    "plt.show()\n",
    "\n",
    "score=knn.score(x_test,y_test)*100\n",
    "print(f'Test Accuracy of random forest {round(score,2)}%')"
   ]
  }
 ],
 "metadata": {
  "kernelspec": {
   "display_name": "Python 3",
   "language": "python",
   "name": "python3"
  },
  "language_info": {
   "codemirror_mode": {
    "name": "ipython",
    "version": 3
   },
   "file_extension": ".py",
   "mimetype": "text/x-python",
   "name": "python",
   "nbconvert_exporter": "python",
   "pygments_lexer": "ipython3",
   "version": "3.6.5"
  }
 },
 "nbformat": 4,
 "nbformat_minor": 2
}
