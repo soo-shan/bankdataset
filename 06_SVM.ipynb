{
 "cells": [
  {
   "cell_type": "code",
   "execution_count": 1,
   "metadata": {},
   "outputs": [],
   "source": [
    "%%capture\n",
    "import numpy as np\n",
    "import pandas as pd\n",
    "import matplotlib.pyplot as plt\n",
    "\n",
    "data =pd.read_csv('bank/bank.csv',sep=';')\n",
    "col_cat = ['job','marital','education','default','housing','loan','contact','month','poutcome']\n",
    "col_num = ['age','balance','day','duration','campaign','pdays','previous']\n",
    "data_categorical = pd.get_dummies(data[col_cat])\n",
    "data_numerical = data[col_num]\n",
    "data_set = pd.concat([data_categorical,data_numerical],axis = 1)\n",
    "\n",
    "from sklearn.ensemble import RandomForestClassifier\n",
    "from boruta import BorutaPy\n",
    "X =data_set.values\n",
    "y = data['y']\n",
    "y = y.ravel()\n",
    "rf = RandomForestClassifier(n_jobs=-1, class_weight='balanced', max_depth=5)\n",
    "feat_selector = BorutaPy(rf, n_estimators='auto', verbose=2, random_state=1)\n",
    "feat_selector.fit(X, y)\n",
    "feat_selector.support_\n",
    "feat_selector.ranking_\n",
    "X_filtered = feat_selector.transform(X)\n",
    "\n",
    "x_feat = data_set.copy()\n",
    "drop_col = x_feat.columns[feat_selector.ranking_ > 1]\n",
    "x_feat.drop(drop_col,axis = 1, inplace=True)"
   ]
  },
  {
   "cell_type": "code",
   "execution_count": 2,
   "metadata": {},
   "outputs": [],
   "source": [
    "y[y== 'no'] = -1\n",
    "y[y == 'yes'] = 1\n",
    "\n",
    "y=y.astype('str')\n",
    "from sklearn.model_selection import train_test_split\n",
    "x_train, x_test, y_train, y_test = train_test_split(x_feat, y, test_size=0.30, random_state=0)\n",
    "\n",
    "\n",
    "from sklearn.preprocessing import StandardScaler\n",
    "scaler = StandardScaler()\n",
    "scaler.fit(x_train)\n",
    "x_train = scaler.transform(x_train)\n",
    "x_test = scaler.transform(x_test)"
   ]
  },
  {
   "cell_type": "code",
   "execution_count": 3,
   "metadata": {},
   "outputs": [],
   "source": [
    "from sklearn.svm import SVC \n",
    "svclassifier = SVC(kernel = 'linear')\n",
    "svclassifier.fit(x_train,y_train)\n",
    "predicted_label = svclassifier.predict(x_test)\n",
    "\n"
   ]
  },
  {
   "cell_type": "code",
   "execution_count": 4,
   "metadata": {},
   "outputs": [
    {
     "name": "stdout",
     "output_type": "stream",
     "text": [
      " Classification Report\n",
      "             precision    recall  f1-score   support\n",
      "\n",
      "         -1       0.89      0.99      0.94      1190\n",
      "          1       0.71      0.14      0.24       167\n",
      "\n",
      "avg / total       0.87      0.89      0.85      1357\n",
      "\n",
      "Confusion Metrics: \n",
      " [[1180   10]\n",
      " [ 143   24]]\n"
     ]
    },
    {
     "data": {
      "image/png": "[encoded data removed]",
      "text/plain": [
       "<Figure size 432x288 with 2 Axes>"
      ]
     },
     "metadata": {},
     "output_type": "display_data"
    },
    {
     "name": "stdout",
     "output_type": "stream",
     "text": [
      "Test Accuracy of svm is 88.73%\n"
     ]
    }
   ],
   "source": [
    "from sklearn.metrics import classification_report\n",
    "\n",
    "report = classification_report(y_test, predicted_label)\n",
    "print(f' Classification Report\\n{report}')\n",
    "\n",
    "from sklearn import metrics\n",
    "labels=['-1','1']\n",
    "cm = metrics.confusion_matrix(y_test, predicted_label, labels)\n",
    "print(f'Confusion Metrics: \\n {cm}')\n",
    "fig = plt.figure()\n",
    "ax = fig.add_subplot(111)\n",
    "cax = ax.matshow(cm)\n",
    "plt.title('Confusion matrix of the classifier')\n",
    "fig.colorbar(cax)\n",
    "ax.set_xticklabels([''] + labels)\n",
    "ax.set_yticklabels([''] + labels)\n",
    "plt.xlabel('Predicted')\n",
    "plt.ylabel('True')\n",
    "plt.show()\n",
    "\n",
    "score=svclassifier.score(x_test,y_test)*100\n",
    "print(f'Test Accuracy of svm is {round(score,2)}%')"
   ]
  },
  {
   "cell_type": "code",
   "execution_count": 5,
   "metadata": {},
   "outputs": [
    {
     "name": "stdout",
     "output_type": "stream",
     "text": [
      "Test Accuracy of svm is 88.95%\n"
     ]
    }
   ],
   "source": [
    "# with Radial Basis Function \n",
    "# from sklearn import metrics\n",
    "svclassifier = SVC(kernel = 'rbf')\n",
    "svclassifier.fit(x_train,y_train)\n",
    "predicted_label = svclassifier.predict(x_test)\n",
    "cm = metrics.confusion_matrix(y_test, predicted_label, labels)\n",
    "score=svclassifier.score(x_test,y_test)*100\n",
    "print(f'Test Accuracy of svm is {round(score,2)}%')"
   ]
  }
 ],
 "metadata": {
  "kernelspec": {
   "display_name": "Python 3",
   "language": "python",
   "name": "python3"
  },
  "language_info": {
   "codemirror_mode": {
    "name": "ipython",
    "version": 3
   },
   "file_extension": ".py",
   "mimetype": "text/x-python",
   "name": "python",
   "nbconvert_exporter": "python",
   "pygments_lexer": "ipython3",
   "version": "3.6.5"
  }
 },
 "nbformat": 4,
 "nbformat_minor": 2
}
